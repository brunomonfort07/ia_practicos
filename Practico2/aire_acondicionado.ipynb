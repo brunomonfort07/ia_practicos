{
 "cells": [
  {
   "cell_type": "code",
   "execution_count": 2,
   "metadata": {},
   "outputs": [],
   "source": [
    "import gymnasium\n",
    "from gymnasium import error, spaces, utils, Env\n",
    "import numpy as np\n",
    "import matplotlib.pyplot as plt\n",
    "from sklearn.metrics import mean_squared_error, mean_absolute_error"
   ]
  },
  {
   "cell_type": "markdown",
   "metadata": {},
   "source": [
    "# Descripción del problema\n",
    "\n",
    "El siguiente ejemplo consiste en un Ambiente (Room). La temperatura de la habitación cambia debido a la temperatura externa ambiente (se asume de forma desconocida). La habitación cuenta con un equipo de Aire Acondicionado controlado por un Agente. El objetivo de este Agente es mantener la temperatura en 0 grados. El Aire Acondicionado puede cambiar la temperatura en 0, 1, 2 o 3 grados ya sea frío o calor."
   ]
  },
  {
   "cell_type": "markdown",
   "metadata": {},
   "source": [
    "# Ambiente\n",
    "\n",
    "El ambiente (Room) está simulado por el siguiente código"
   ]
  },
  {
   "cell_type": "code",
   "execution_count": 3,
   "metadata": {},
   "outputs": [],
   "source": [
    "class Room(Env):\n",
    "    \n",
    "    def __init__(self):\n",
    "        self.observation_space = spaces.Box(low=-20, high=40, shape=(), dtype=np.float32)\n",
    "        self.action_space = spaces.Discrete(7, start=-3)\n",
    "                  \n",
    "    def reset(self):\n",
    "        self.step_count = 0\n",
    "        self.initial_random = self.observation_space.sample()\n",
    "        self.external_temp = 0\n",
    "        self.external_temp = self._temp_variation()\n",
    "        self.temp = self.external_temp\n",
    "        return self.temp\n",
    "    \n",
    "    def step(self, action):\n",
    "        delta_temp = self._temp_variation()\n",
    "        self.external_temp += delta_temp\n",
    "        self.temp += delta_temp + action\n",
    "        self.step_count += 1\n",
    "        return self.temp\n",
    "\n",
    "    def _temp_variation(self):\n",
    "        x = self.initial_random + self.step_count\n",
    "        return np.float64('%.2f'%(20 * np.sin(x/10))) - self.external_temp \n",
    "          "
   ]
  },
  {
   "cell_type": "markdown",
   "metadata": {},
   "source": [
    "# Test Room"
   ]
  },
  {
   "cell_type": "code",
   "execution_count": 4,
   "metadata": {},
   "outputs": [],
   "source": [
    "env = Room()"
   ]
  },
  {
   "cell_type": "code",
   "execution_count": 5,
   "metadata": {},
   "outputs": [
    {
     "data": {
      "text/plain": [
       "Box(-20.0, 40.0, (), float32)"
      ]
     },
     "execution_count": 5,
     "metadata": {},
     "output_type": "execute_result"
    }
   ],
   "source": [
    "env.observation_space"
   ]
  },
  {
   "cell_type": "code",
   "execution_count": 6,
   "metadata": {},
   "outputs": [
    {
     "data": {
      "text/plain": [
       "array(21.999, dtype=float32)"
      ]
     },
     "execution_count": 6,
     "metadata": {},
     "output_type": "execute_result"
    }
   ],
   "source": [
    "env.observation_space.sample()"
   ]
  },
  {
   "cell_type": "code",
   "execution_count": 7,
   "metadata": {},
   "outputs": [
    {
     "data": {
      "text/plain": [
       "Discrete(7, start=-3)"
      ]
     },
     "execution_count": 7,
     "metadata": {},
     "output_type": "execute_result"
    }
   ],
   "source": [
    "env.action_space"
   ]
  },
  {
   "cell_type": "code",
   "execution_count": 8,
   "metadata": {},
   "outputs": [
    {
     "data": {
      "text/plain": [
       "np.int64(3)"
      ]
     },
     "execution_count": 8,
     "metadata": {},
     "output_type": "execute_result"
    }
   ],
   "source": [
    "env.action_space.sample()"
   ]
  },
  {
   "cell_type": "code",
   "execution_count": 9,
   "metadata": {},
   "outputs": [
    {
     "data": {
      "text/plain": [
       "np.float64(-13.52)"
      ]
     },
     "execution_count": 9,
     "metadata": {},
     "output_type": "execute_result"
    }
   ],
   "source": [
    "env.reset()"
   ]
  },
  {
   "cell_type": "markdown",
   "metadata": {},
   "source": [
    "# Reflex Agent\n",
    "\n",
    "Esta es la implementación de un Agente Reflejo Simple, que dada la observación (temperatura de la habitación), toma una acción de enfriar o calentar en 0, 1, 2 o 3 grados. El agente solo enfría o calienta si la temperatura difiere en más de 2 grados."
   ]
  },
  {
   "cell_type": "code",
   "execution_count": 10,
   "metadata": {},
   "outputs": [],
   "source": [
    "class AgentReflex():\n",
    "\n",
    "    def lookup(self, obs):\n",
    "        if obs > 9:\n",
    "            return -3\n",
    "        elif obs > 5:\n",
    "            return -2\n",
    "        elif obs > 2:\n",
    "            return -1\n",
    "        elif obs < -9:\n",
    "            return 3\n",
    "        elif obs < -5:\n",
    "            return 2\n",
    "        elif obs < -2:\n",
    "            return 1\n",
    "        else:\n",
    "            return 0"
   ]
  },
  {
   "cell_type": "markdown",
   "metadata": {},
   "source": [
    "# Test Reflex"
   ]
  },
  {
   "cell_type": "code",
   "execution_count": 11,
   "metadata": {},
   "outputs": [],
   "source": [
    "agent = AgentReflex()"
   ]
  },
  {
   "cell_type": "code",
   "execution_count": 12,
   "metadata": {},
   "outputs": [],
   "source": [
    "obs = env.reset()\n",
    "external_res = []\n",
    "agent_res = []\n",
    "total_steps = 100"
   ]
  },
  {
   "cell_type": "code",
   "execution_count": 13,
   "metadata": {},
   "outputs": [
    {
     "name": "stdout",
     "output_type": "stream",
     "text": [
      "External: 18.07 \n",
      " Prev. Obs: 18.07 -> Action: -3 -> Room: 15.07\n",
      "External: 18.07 \n",
      " Prev. Obs: 15.07 -> Action: -3 -> Room: 11.129999999999999\n",
      "External: 17.13 \n",
      " Prev. Obs: 11.129999999999999 -> Action: -3 -> Room: 7.010000000000002\n",
      "External: 16.01 \n",
      " Prev. Obs: 7.010000000000002 -> Action: -2 -> Room: 3.74\n",
      "External: 14.74 \n",
      " Prev. Obs: 3.74 -> Action: -1 -> Room: 1.3100000000000005\n",
      "External: 13.31 \n",
      " Prev. Obs: 1.3100000000000005 -> Action: 0 -> Room: -0.2400000000000002\n",
      "External: 11.76 \n",
      " Prev. Obs: -0.2400000000000002 -> Action: 0 -> Room: -1.92\n",
      "External: 10.08 \n",
      " Prev. Obs: -1.92 -> Action: 0 -> Room: -3.6899999999999995\n",
      "External: 8.31 \n",
      " Prev. Obs: -3.6899999999999995 -> Action: 1 -> Room: -4.55\n",
      "External: 6.45 \n",
      " Prev. Obs: -4.55 -> Action: 1 -> Room: -5.47\n",
      "External: 4.53 \n",
      " Prev. Obs: -5.47 -> Action: 2 -> Room: -5.4399999999999995\n",
      "External: 2.56 \n",
      " Prev. Obs: -5.4399999999999995 -> Action: 2 -> Room: -5.43\n",
      "External: 0.5699999999999998 \n",
      " Prev. Obs: -5.43 -> Action: 2 -> Room: -5.43\n",
      "External: -1.43 \n",
      " Prev. Obs: -5.43 -> Action: 2 -> Room: -5.41\n",
      "External: -3.41 \n",
      " Prev. Obs: -5.41 -> Action: 2 -> Room: -5.36\n",
      "External: -5.36 \n",
      " Prev. Obs: -5.36 -> Action: 2 -> Room: -5.26\n",
      "External: -7.26 \n",
      " Prev. Obs: -5.26 -> Action: 2 -> Room: -5.09\n",
      "External: -9.09 \n",
      " Prev. Obs: -5.09 -> Action: 2 -> Room: -4.82\n",
      "External: -10.82 \n",
      " Prev. Obs: -4.82 -> Action: 1 -> Room: -5.4399999999999995\n",
      "External: -12.44 \n",
      " Prev. Obs: -5.4399999999999995 -> Action: 2 -> Room: -4.949999999999999\n",
      "External: -13.95 \n",
      " Prev. Obs: -4.949999999999999 -> Action: 1 -> Room: -5.3100000000000005\n",
      "External: -15.31 \n",
      " Prev. Obs: -5.3100000000000005 -> Action: 2 -> Room: -4.52\n",
      "External: -16.52 \n",
      " Prev. Obs: -4.52 -> Action: 1 -> Room: -4.559999999999999\n",
      "External: -17.56 \n",
      " Prev. Obs: -4.559999999999999 -> Action: 1 -> Room: -4.43\n",
      "External: -18.43 \n",
      " Prev. Obs: -4.43 -> Action: 1 -> Room: -4.109999999999999\n",
      "External: -19.11 \n",
      " Prev. Obs: -4.109999999999999 -> Action: 1 -> Room: -3.6000000000000014\n",
      "External: -19.6 \n",
      " Prev. Obs: -3.6000000000000014 -> Action: 1 -> Room: -2.8999999999999986\n",
      "External: -19.9 \n",
      " Prev. Obs: -2.8999999999999986 -> Action: 1 -> Room: -2.0\n",
      "External: -20.0 \n",
      " Prev. Obs: -2.0 -> Action: 0 -> Room: -1.8999999999999986\n",
      "External: -19.9 \n",
      " Prev. Obs: -1.8999999999999986 -> Action: 0 -> Room: -1.6000000000000014\n",
      "External: -19.6 \n",
      " Prev. Obs: -1.6000000000000014 -> Action: 0 -> Room: -1.1000000000000014\n",
      "External: -19.1 \n",
      " Prev. Obs: -1.1000000000000014 -> Action: 0 -> Room: -0.4200000000000017\n",
      "External: -18.42 \n",
      " Prev. Obs: -0.4200000000000017 -> Action: 0 -> Room: 0.46000000000000085\n",
      "External: -17.54 \n",
      " Prev. Obs: 0.46000000000000085 -> Action: 0 -> Room: 1.5\n",
      "External: -16.5 \n",
      " Prev. Obs: 1.5 -> Action: 0 -> Room: 2.710000000000001\n",
      "External: -15.29 \n",
      " Prev. Obs: 2.710000000000001 -> Action: -1 -> Room: 3.08\n",
      "External: -13.92 \n",
      " Prev. Obs: 3.08 -> Action: -1 -> Room: 3.58\n",
      "External: -12.42 \n",
      " Prev. Obs: 3.58 -> Action: -1 -> Room: 4.210000000000001\n",
      "External: -10.79 \n",
      " Prev. Obs: 4.210000000000001 -> Action: -1 -> Room: 4.9399999999999995\n",
      "External: -9.06 \n",
      " Prev. Obs: 4.9399999999999995 -> Action: -1 -> Room: 5.77\n",
      "External: -7.23 \n",
      " Prev. Obs: 5.77 -> Action: -2 -> Room: 5.66\n",
      "External: -5.34 \n",
      " Prev. Obs: 5.66 -> Action: -2 -> Room: 5.62\n",
      "External: -3.38 \n",
      " Prev. Obs: 5.62 -> Action: -2 -> Room: 5.6\n",
      "External: -1.4 \n",
      " Prev. Obs: 5.6 -> Action: -2 -> Room: 5.6\n",
      "External: 0.6000000000000001 \n",
      " Prev. Obs: 5.6 -> Action: -2 -> Room: 5.59\n",
      "External: 2.59 \n",
      " Prev. Obs: 5.59 -> Action: -2 -> Room: 5.56\n",
      "External: 4.56 \n",
      " Prev. Obs: 5.56 -> Action: -2 -> Room: 5.48\n",
      "External: 6.48 \n",
      " Prev. Obs: 5.48 -> Action: -2 -> Room: 5.34\n",
      "External: 8.34 \n",
      " Prev. Obs: 5.34 -> Action: -2 -> Room: 5.109999999999999\n",
      "External: 10.11 \n",
      " Prev. Obs: 5.109999999999999 -> Action: -2 -> Room: 4.779999999999999\n",
      "External: 11.78 \n",
      " Prev. Obs: 4.779999999999999 -> Action: -1 -> Room: 5.34\n",
      "External: 13.34 \n",
      " Prev. Obs: 5.34 -> Action: -2 -> Room: 4.76\n",
      "External: 14.76 \n",
      " Prev. Obs: 4.76 -> Action: -1 -> Room: 5.030000000000001\n",
      "External: 16.03 \n",
      " Prev. Obs: 5.030000000000001 -> Action: -2 -> Room: 4.149999999999999\n",
      "External: 17.15 \n",
      " Prev. Obs: 4.149999999999999 -> Action: -1 -> Room: 4.09\n",
      "External: 18.09 \n",
      " Prev. Obs: 4.09 -> Action: -1 -> Room: 3.8500000000000014\n",
      "External: 18.85 \n",
      " Prev. Obs: 3.8500000000000014 -> Action: -1 -> Room: 3.4200000000000017\n",
      "External: 19.42 \n",
      " Prev. Obs: 3.4200000000000017 -> Action: -1 -> Room: 2.8000000000000007\n",
      "External: 19.8 \n",
      " Prev. Obs: 2.8000000000000007 -> Action: -1 -> Room: 1.9800000000000004\n",
      "External: 19.98 \n",
      " Prev. Obs: 1.9800000000000004 -> Action: 0 -> Room: 1.9699999999999989\n",
      "External: 19.97 \n",
      " Prev. Obs: 1.9699999999999989 -> Action: 0 -> Room: 1.75\n",
      "External: 19.75 \n",
      " Prev. Obs: 1.75 -> Action: 0 -> Room: 1.3299999999999983\n",
      "External: 19.33 \n",
      " Prev. Obs: 1.3299999999999983 -> Action: 0 -> Room: 0.7199999999999989\n",
      "External: 18.72 \n",
      " Prev. Obs: 0.7199999999999989 -> Action: 0 -> Room: -0.07000000000000028\n",
      "External: 17.93 \n",
      " Prev. Obs: -0.07000000000000028 -> Action: 0 -> Room: -1.0500000000000007\n",
      "External: 16.95 \n",
      " Prev. Obs: -1.0500000000000007 -> Action: 0 -> Room: -2.1899999999999995\n",
      "External: 15.81 \n",
      " Prev. Obs: -2.1899999999999995 -> Action: 1 -> Room: -2.49\n",
      "External: 14.51 \n",
      " Prev. Obs: -2.49 -> Action: 1 -> Room: -2.9399999999999995\n",
      "External: 13.06 \n",
      " Prev. Obs: -2.9399999999999995 -> Action: 1 -> Room: -3.5199999999999996\n",
      "External: 11.48 \n",
      " Prev. Obs: -3.5199999999999996 -> Action: 1 -> Room: -4.210000000000001\n",
      "External: 9.79 \n",
      " Prev. Obs: -4.210000000000001 -> Action: 1 -> Room: -5.0\n",
      "External: 8.0 \n",
      " Prev. Obs: -5.0 -> Action: 1 -> Room: -5.87\n",
      "External: 6.13 \n",
      " Prev. Obs: -5.87 -> Action: 2 -> Room: -5.8\n",
      "External: 4.2 \n",
      " Prev. Obs: -5.8 -> Action: 2 -> Room: -5.77\n",
      "External: 2.23 \n",
      " Prev. Obs: -5.77 -> Action: 2 -> Room: -5.77\n",
      "External: 0.22999999999999998 \n",
      " Prev. Obs: -5.77 -> Action: 2 -> Room: -5.77\n",
      "External: -1.77 \n",
      " Prev. Obs: -5.77 -> Action: 2 -> Room: -5.75\n",
      "External: -3.75 \n",
      " Prev. Obs: -5.75 -> Action: 2 -> Room: -5.69\n",
      "External: -5.69 \n",
      " Prev. Obs: -5.69 -> Action: 2 -> Room: -5.57\n",
      "External: -7.57 \n",
      " Prev. Obs: -5.57 -> Action: 2 -> Room: -5.380000000000001\n",
      "External: -9.38 \n",
      " Prev. Obs: -5.380000000000001 -> Action: 2 -> Room: -5.1\n",
      "External: -11.1 \n",
      " Prev. Obs: -5.1 -> Action: 2 -> Room: -4.710000000000001\n",
      "External: -12.71 \n",
      " Prev. Obs: -4.710000000000001 -> Action: 1 -> Room: -5.18\n",
      "External: -14.18 \n",
      " Prev. Obs: -5.18 -> Action: 2 -> Room: -4.52\n",
      "External: -15.52 \n",
      " Prev. Obs: -4.52 -> Action: 1 -> Room: -4.699999999999999\n",
      "External: -16.7 \n",
      " Prev. Obs: -4.699999999999999 -> Action: 1 -> Room: -4.719999999999999\n",
      "External: -17.72 \n",
      " Prev. Obs: -4.719999999999999 -> Action: 1 -> Room: -4.559999999999999\n",
      "External: -18.56 \n",
      " Prev. Obs: -4.559999999999999 -> Action: 1 -> Room: -4.210000000000001\n",
      "External: -19.21 \n",
      " Prev. Obs: -4.210000000000001 -> Action: 1 -> Room: -3.6700000000000017\n",
      "External: -19.67 \n",
      " Prev. Obs: -3.6700000000000017 -> Action: 1 -> Room: -2.9299999999999997\n",
      "External: -19.93 \n",
      " Prev. Obs: -2.9299999999999997 -> Action: 1 -> Room: -2.0\n",
      "External: -20.0 \n",
      " Prev. Obs: -2.0 -> Action: 0 -> Room: -1.8599999999999994\n",
      "External: -19.86 \n",
      " Prev. Obs: -1.8599999999999994 -> Action: 0 -> Room: -1.5300000000000011\n",
      "External: -19.53 \n",
      " Prev. Obs: -1.5300000000000011 -> Action: 0 -> Room: -1.0\n",
      "External: -19.0 \n",
      " Prev. Obs: -1.0 -> Action: 0 -> Room: -0.28000000000000114\n",
      "External: -18.28 \n",
      " Prev. Obs: -0.28000000000000114 -> Action: 0 -> Room: 0.620000000000001\n",
      "External: -17.38 \n",
      " Prev. Obs: 0.620000000000001 -> Action: 0 -> Room: 1.6900000000000013\n",
      "External: -16.31 \n",
      " Prev. Obs: 1.6900000000000013 -> Action: 0 -> Room: 2.9299999999999997\n",
      "External: -15.07 \n",
      " Prev. Obs: 2.9299999999999997 -> Action: -1 -> Room: 3.3200000000000003\n",
      "External: -13.68 \n",
      " Prev. Obs: 3.3200000000000003 -> Action: -1 -> Room: 3.8499999999999996\n"
     ]
    }
   ],
   "source": [
    "for i in range(0, total_steps):  \n",
    "    \n",
    "    # solamente para evaluar la evolución de la temperatura de la habitación con y sin agente\n",
    "    # la temperatura de la habitación sin el agente es igual a la temperatura exterior\n",
    "    \n",
    "    external_temp = env.external_temp\n",
    "    external_res.append(external_temp)\n",
    "    \n",
    "    # decisión y acción del agente\n",
    "    \n",
    "    prev_obs = obs\n",
    "    action = agent.lookup(obs)\n",
    "    obs = env.step(action)\n",
    "    agent_res.append(obs)  \n",
    "    \n",
    "    print('External:', external_temp, '\\n','Prev. Obs:', prev_obs, '-> Action:', action, '-> Room:', obs)"
   ]
  },
  {
   "cell_type": "markdown",
   "metadata": {},
   "source": [
    "# Graficando los resultados"
   ]
  },
  {
   "cell_type": "code",
   "execution_count": 14,
   "metadata": {},
   "outputs": [
    {
     "data": {
      "text/plain": [
       "[<matplotlib.lines.Line2D at 0x2bca4c4ae90>]"
      ]
     },
     "execution_count": 14,
     "metadata": {},
     "output_type": "execute_result"
    },
    {
     "data": {
      "image/png": "[encoded data removed]",
      "text/plain": [
       "<Figure size 640x480 with 1 Axes>"
      ]
     },
     "metadata": {},
     "output_type": "display_data"
    }
   ],
   "source": [
    "plt.axhline(color='black')                                  #Temperatura ideal\n",
    "plt.plot(range(0, total_steps), agent_res, color='red')     #Temperatura con el agente\n",
    "plt.plot(range(0, total_steps), external_res, color='blue') #Temperatura sin agente"
   ]
  },
  {
   "cell_type": "markdown",
   "metadata": {},
   "source": [
    "# Métrica de Performance\n",
    "Una posible métrica de performance, podría ser ver la temperatura media del ambiente con la acción del agente."
   ]
  },
  {
   "cell_type": "code",
   "execution_count": 15,
   "metadata": {},
   "outputs": [
    {
     "name": "stdout",
     "output_type": "stream",
     "text": [
      "Temperatura media con el agente:  -0.5630999999999999\n",
      "Temperatura media sin el agente:  -2.1109\n"
     ]
    }
   ],
   "source": [
    "print(\"Temperatura media con el agente: \", np.mean(agent_res))\n",
    "print(\"Temperatura media sin el agente: \", np.mean(external_res))"
   ]
  },
  {
   "cell_type": "markdown",
   "metadata": {},
   "source": [
    "Otra posible métrica de performance, es evaluar para cada instante de tiempo (step) cuanto difiere la temperatura obtenida de la objetivo=0. Esto se puede hacer con mean_squared_error o mean_absolute_error. \n",
    "Comparemos la métrica obtenida por el agente contra la métrica obtenida sin un agente:"
   ]
  },
  {
   "cell_type": "code",
   "execution_count": 16,
   "metadata": {},
   "outputs": [
    {
     "name": "stdout",
     "output_type": "stream",
     "text": [
      "Variación media con el agente:  4.0121\n",
      "Variación media sin el agente:  12.942100000000003\n"
     ]
    }
   ],
   "source": [
    "goal_temp = np.zeros(total_steps)\n",
    "print(\"Variación media con el agente: \", mean_absolute_error(goal_temp, agent_res))\n",
    "print(\"Variación media sin el agente: \", mean_absolute_error(goal_temp, external_res))"
   ]
  },
  {
   "cell_type": "markdown",
   "metadata": {},
   "source": [
    "# Ejercicio: Model (Goal / Utility) Based Agent "
   ]
  },
  {
   "cell_type": "markdown",
   "metadata": {},
   "source": [
    "Construir un Agente basado en un modelo. \n",
    "Esto es: \n",
    "    - Construir un modelo a mano, por ejemplo un grafo, con estados y transiciones [Ver figura].\n",
    "    - Discretizar las observaciones devueltas por el ambiente mapeándolas a un estado.\n",
    "    - Tomar una decisón basada en el estado.\n",
    "    - Definir un objetivo y una utilidad.\n",
    "\n",
    "Por ejemplo, el Agente podría conocer un modelo que tiene 2 estados {Frío, Calor}\n",
    "<img src=\"Modelo.png\">\n"
   ]
  },
  {
   "cell_type": "code",
   "execution_count": null,
   "metadata": {},
   "outputs": [],
   "source": [
    "from agent import Agent\n",
    "import constants\n",
    "\n",
    "# ¿Qué es el objetivo de este agente? --> Alcanzar y mantener el estado Confort.\n",
    "class GoalBasedAgent(Agent):\n",
    "    def __init__(self):\n",
    "        self.states = [constants.COLD, constants.OK, constants.HOT]\n",
    "        self.maxVariationPerAction = 3 # Puedo subir o bajar hasta 3 grados en una accion\n",
    "\n",
    "    # Decidir una accion para interactuar con el entorno. Te pregunta que es lo que vas a hacer.\n",
    "    def next_action(self, obs):\n",
    "        # obs: medición de temperatura en grados Celsius.\n",
    "        currentState = self.obsToState(obs)\n",
    "        action = 0 # Dejar quieto como esta\n",
    "        if currentState == constants.HOT:\n",
    "            action = -1 * min(round(obs), self.maxVariationPerAction) # Enfriar\n",
    "        elif currentState == constants.COLD:\n",
    "            action = abs(max(round(obs), self.maxVariationPerAction * -1)) # Calentar\n",
    "        return action\n",
    "\n",
    "    # obsToState discretiza obs en estado\n",
    "    def obsToState(self, obs):\n",
    "        i = 1\n",
    "        if obs > 1:\n",
    "            i += 1\n",
    "        elif obs < -1:\n",
    "            i -= 1\n",
    "        return self.states[i]"
   ]
  },
  {
   "cell_type": "code",
   "execution_count": 40,
   "metadata": {},
   "outputs": [
    {
     "name": "stdout",
     "output_type": "stream",
     "text": [
      "External: -14.99 \n",
      " Prev. Obs: -14.99 -> Action: 3 -> Room: -11.99\n",
      "External: -14.99 \n",
      " Prev. Obs: -11.99 -> Action: 3 -> Room: -10.239999999999998\n",
      "External: -16.24 \n",
      " Prev. Obs: -10.239999999999998 -> Action: 3 -> Room: -8.32\n",
      "External: -17.32 \n",
      " Prev. Obs: -8.32 -> Action: 3 -> Room: -6.239999999999998\n",
      "External: -18.24 \n",
      " Prev. Obs: -6.239999999999998 -> Action: 3 -> Room: -3.960000000000001\n",
      "External: -18.96 \n",
      " Prev. Obs: -3.960000000000001 -> Action: 3 -> Room: -1.5\n",
      "External: -19.5 \n",
      " Prev. Obs: -1.5 -> Action: 2 -> Room: 0.14999999999999858\n",
      "External: -19.85 \n",
      " Prev. Obs: 0.14999999999999858 -> Action: 0 -> Room: 0.010000000000001563\n",
      "External: -19.99 \n",
      " Prev. Obs: 0.010000000000001563 -> Action: 0 -> Room: 0.05999999999999872\n",
      "External: -19.94 \n",
      " Prev. Obs: 0.05999999999999872 -> Action: 0 -> Room: 0.3099999999999987\n",
      "External: -19.69 \n",
      " Prev. Obs: 0.3099999999999987 -> Action: 0 -> Room: 0.7600000000000016\n",
      "External: -19.24 \n",
      " Prev. Obs: 0.7600000000000016 -> Action: 0 -> Room: 1.3999999999999986\n",
      "External: -18.6 \n",
      " Prev. Obs: 1.3999999999999986 -> Action: -1 -> Room: 1.2300000000000004\n",
      "External: -17.77 \n",
      " Prev. Obs: 1.2300000000000004 -> Action: -1 -> Room: 1.2399999999999984\n",
      "External: -16.76 \n",
      " Prev. Obs: 1.2399999999999984 -> Action: -1 -> Room: 1.4100000000000001\n",
      "External: -15.59 \n",
      " Prev. Obs: 1.4100000000000001 -> Action: -1 -> Room: 1.7400000000000002\n",
      "External: -14.26 \n",
      " Prev. Obs: 1.7400000000000002 -> Action: -2 -> Room: 1.2100000000000009\n",
      "External: -12.79 \n",
      " Prev. Obs: 1.2100000000000009 -> Action: -1 -> Room: 1.8100000000000005\n",
      "External: -11.19 \n",
      " Prev. Obs: 1.8100000000000005 -> Action: -2 -> Room: 1.5199999999999996\n",
      "External: -9.48 \n",
      " Prev. Obs: 1.5199999999999996 -> Action: -2 -> Room: 1.3200000000000003\n",
      "External: -7.68 \n",
      " Prev. Obs: 1.3200000000000003 -> Action: -1 -> Room: 2.2\n",
      "External: -5.8 \n",
      " Prev. Obs: 2.2 -> Action: -2 -> Room: 2.14\n",
      "External: -3.86 \n",
      " Prev. Obs: 2.14 -> Action: -2 -> Room: 2.12\n",
      "External: -1.88 \n",
      " Prev. Obs: 2.12 -> Action: -2 -> Room: 2.12\n",
      "External: 0.1200000000000001 \n",
      " Prev. Obs: 2.12 -> Action: -2 -> Room: 2.12\n",
      "External: 2.12 \n",
      " Prev. Obs: 2.12 -> Action: -2 -> Room: 2.09\n",
      "External: 4.09 \n",
      " Prev. Obs: 2.09 -> Action: -2 -> Room: 2.0300000000000002\n",
      "External: 6.03 \n",
      " Prev. Obs: 2.0300000000000002 -> Action: -2 -> Room: 1.9000000000000004\n",
      "External: 7.9 \n",
      " Prev. Obs: 1.9000000000000004 -> Action: -2 -> Room: 1.6899999999999995\n",
      "External: 9.69 \n",
      " Prev. Obs: 1.6899999999999995 -> Action: -2 -> Room: 1.3900000000000006\n",
      "External: 11.39 \n",
      " Prev. Obs: 1.3900000000000006 -> Action: -1 -> Room: 1.9800000000000004\n",
      "External: 12.98 \n",
      " Prev. Obs: 1.9800000000000004 -> Action: -2 -> Room: 1.4299999999999997\n",
      "External: 14.43 \n",
      " Prev. Obs: 1.4299999999999997 -> Action: -1 -> Room: 1.7400000000000002\n",
      "External: 15.74 \n",
      " Prev. Obs: 1.7400000000000002 -> Action: -2 -> Room: 0.8900000000000006\n",
      "External: 16.89 \n",
      " Prev. Obs: 0.8900000000000006 -> Action: 0 -> Room: 1.879999999999999\n",
      "External: 17.88 \n",
      " Prev. Obs: 1.879999999999999 -> Action: -2 -> Room: 0.6799999999999997\n",
      "External: 18.68 \n",
      " Prev. Obs: 0.6799999999999997 -> Action: 0 -> Room: 1.3000000000000007\n",
      "External: 19.3 \n",
      " Prev. Obs: 1.3000000000000007 -> Action: -1 -> Room: 0.7300000000000004\n",
      "External: 19.73 \n",
      " Prev. Obs: 0.7300000000000004 -> Action: 0 -> Room: 0.9600000000000009\n",
      "External: 19.96 \n",
      " Prev. Obs: 0.9600000000000009 -> Action: 0 -> Room: 0.9899999999999984\n",
      "External: 19.99 \n",
      " Prev. Obs: 0.9899999999999984 -> Action: 0 -> Room: 0.8200000000000003\n",
      "External: 19.82 \n",
      " Prev. Obs: 0.8200000000000003 -> Action: 0 -> Room: 0.4499999999999993\n",
      "External: 19.45 \n",
      " Prev. Obs: 0.4499999999999993 -> Action: 0 -> Room: -0.10999999999999943\n",
      "External: 18.89 \n",
      " Prev. Obs: -0.10999999999999943 -> Action: 0 -> Room: -0.8599999999999994\n",
      "External: 18.14 \n",
      " Prev. Obs: -0.8599999999999994 -> Action: 0 -> Room: -1.8000000000000007\n",
      "External: 17.2 \n",
      " Prev. Obs: -1.8000000000000007 -> Action: 2 -> Room: -0.8999999999999986\n",
      "External: 16.1 \n",
      " Prev. Obs: -0.8999999999999986 -> Action: 0 -> Room: -2.17\n",
      "External: 14.83 \n",
      " Prev. Obs: -2.17 -> Action: 2 -> Room: -1.58\n",
      "External: 13.42 \n",
      " Prev. Obs: -1.58 -> Action: 2 -> Room: -1.1300000000000008\n",
      "External: 11.87 \n",
      " Prev. Obs: -1.1300000000000008 -> Action: 1 -> Room: -1.7899999999999991\n",
      "External: 10.21 \n",
      " Prev. Obs: -1.7899999999999991 -> Action: 2 -> Room: -1.5600000000000005\n",
      "External: 8.44 \n",
      " Prev. Obs: -1.5600000000000005 -> Action: 2 -> Room: -1.4100000000000001\n",
      "External: 6.59 \n",
      " Prev. Obs: -1.4100000000000001 -> Action: 1 -> Room: -2.33\n",
      "External: 4.67 \n",
      " Prev. Obs: -2.33 -> Action: 2 -> Room: -2.3\n",
      "External: 2.7 \n",
      " Prev. Obs: -2.3 -> Action: 2 -> Room: -2.29\n",
      "External: 0.71 \n",
      " Prev. Obs: -2.29 -> Action: 2 -> Room: -2.29\n",
      "External: -1.29 \n",
      " Prev. Obs: -2.29 -> Action: 2 -> Room: -2.27\n",
      "External: -3.27 \n",
      " Prev. Obs: -2.27 -> Action: 2 -> Room: -2.2300000000000004\n",
      "External: -5.23 \n",
      " Prev. Obs: -2.2300000000000004 -> Action: 2 -> Room: -2.13\n",
      "External: -7.13 \n",
      " Prev. Obs: -2.13 -> Action: 2 -> Room: -1.9600000000000009\n",
      "External: -8.96 \n",
      " Prev. Obs: -1.9600000000000009 -> Action: 2 -> Room: -1.6999999999999993\n",
      "External: -10.7 \n",
      " Prev. Obs: -1.6999999999999993 -> Action: 2 -> Room: -1.33\n",
      "External: -12.33 \n",
      " Prev. Obs: -1.33 -> Action: 1 -> Room: -1.8399999999999999\n",
      "External: -13.84 \n",
      " Prev. Obs: -1.8399999999999999 -> Action: 2 -> Room: -1.2100000000000009\n",
      "External: -15.21 \n",
      " Prev. Obs: -1.2100000000000009 -> Action: 1 -> Room: -1.4299999999999997\n",
      "External: -16.43 \n",
      " Prev. Obs: -1.4299999999999997 -> Action: 1 -> Room: -1.4899999999999984\n",
      "External: -17.49 \n",
      " Prev. Obs: -1.4899999999999984 -> Action: 1 -> Room: -1.370000000000001\n",
      "External: -18.37 \n",
      " Prev. Obs: -1.370000000000001 -> Action: 1 -> Room: -1.0700000000000003\n",
      "External: -19.07 \n",
      " Prev. Obs: -1.0700000000000003 -> Action: 1 -> Room: -0.5799999999999983\n",
      "External: -19.58 \n",
      " Prev. Obs: -0.5799999999999983 -> Action: 0 -> Room: -0.8900000000000006\n",
      "External: -19.89 \n",
      " Prev. Obs: -0.8900000000000006 -> Action: 0 -> Room: -1.0\n",
      "External: -20.0 \n",
      " Prev. Obs: -1.0 -> Action: 0 -> Room: -0.9100000000000001\n",
      "External: -19.91 \n",
      " Prev. Obs: -0.9100000000000001 -> Action: 0 -> Room: -0.629999999999999\n",
      "External: -19.63 \n",
      " Prev. Obs: -0.629999999999999 -> Action: 0 -> Room: -0.14000000000000057\n",
      "External: -19.14 \n",
      " Prev. Obs: -0.14000000000000057 -> Action: 0 -> Room: 0.5300000000000011\n",
      "External: -18.47 \n",
      " Prev. Obs: 0.5300000000000011 -> Action: 0 -> Room: 1.3900000000000006\n",
      "External: -17.61 \n",
      " Prev. Obs: 1.3900000000000006 -> Action: -1 -> Room: 1.4200000000000017\n",
      "External: -16.58 \n",
      " Prev. Obs: 1.4200000000000017 -> Action: -1 -> Room: 1.6199999999999992\n",
      "External: -15.38 \n",
      " Prev. Obs: 1.6199999999999992 -> Action: -2 -> Room: 0.9700000000000006\n",
      "External: -14.03 \n",
      " Prev. Obs: 0.9700000000000006 -> Action: 0 -> Room: 2.4700000000000006\n",
      "External: -12.53 \n",
      " Prev. Obs: 2.4700000000000006 -> Action: -2 -> Room: 2.09\n",
      "External: -10.91 \n",
      " Prev. Obs: 2.09 -> Action: -2 -> Room: 1.8100000000000005\n",
      "External: -9.19 \n",
      " Prev. Obs: 1.8100000000000005 -> Action: -2 -> Room: 1.63\n",
      "External: -7.37 \n",
      " Prev. Obs: 1.63 -> Action: -2 -> Room: 1.5300000000000002\n",
      "External: -5.47 \n",
      " Prev. Obs: 1.5300000000000002 -> Action: -2 -> Room: 1.48\n",
      "External: -3.52 \n",
      " Prev. Obs: 1.48 -> Action: -1 -> Room: 2.46\n",
      "External: -1.54 \n",
      " Prev. Obs: 2.46 -> Action: -2 -> Room: 2.46\n",
      "External: 0.45999999999999996 \n",
      " Prev. Obs: 2.46 -> Action: -2 -> Room: 2.45\n",
      "External: 2.45 \n",
      " Prev. Obs: 2.45 -> Action: -2 -> Room: 2.42\n",
      "External: 4.42 \n",
      " Prev. Obs: 2.42 -> Action: -2 -> Room: 2.34\n",
      "External: 6.34 \n",
      " Prev. Obs: 2.34 -> Action: -2 -> Room: 2.210000000000001\n",
      "External: 8.21 \n",
      " Prev. Obs: 2.210000000000001 -> Action: -2 -> Room: 1.9900000000000002\n",
      "External: 9.99 \n",
      " Prev. Obs: 1.9900000000000002 -> Action: -2 -> Room: 1.67\n",
      "External: 11.67 \n",
      " Prev. Obs: 1.67 -> Action: -2 -> Room: 1.2300000000000004\n",
      "External: 13.23 \n",
      " Prev. Obs: 1.2300000000000004 -> Action: -1 -> Room: 1.6600000000000001\n",
      "External: 14.66 \n",
      " Prev. Obs: 1.6600000000000001 -> Action: -2 -> Room: 0.9499999999999993\n",
      "External: 15.95 \n",
      " Prev. Obs: 0.9499999999999993 -> Action: 0 -> Room: 2.0700000000000003\n",
      "External: 17.07 \n",
      " Prev. Obs: 2.0700000000000003 -> Action: -2 -> Room: 1.0300000000000011\n",
      "External: 18.03 \n",
      " Prev. Obs: 1.0300000000000011 -> Action: -1 -> Room: 0.8000000000000007\n",
      "External: 18.8 \n",
      " Prev. Obs: 0.8000000000000007 -> Action: 0 -> Room: 1.3900000000000006\n"
     ]
    }
   ],
   "source": [
    "gbagent = GoalBasedAgent()\n",
    "\n",
    "env = Room()\n",
    "\n",
    "obs = env.reset()\n",
    "external_res = []\n",
    "gbagent_res = []\n",
    "total_steps = 100\n",
    "\n",
    "for i in range(0, total_steps):  \n",
    "    \n",
    "    # solamente para evaluar la evolución de la temperatura de la habitación con y sin agente\n",
    "    # la temperatura de la habitación sin el agente es igual a la temperatura exterior\n",
    "    \n",
    "    external_temp = env.external_temp\n",
    "    external_res.append(external_temp)\n",
    "    \n",
    "    # decisión y acción del agente\n",
    "    \n",
    "    prev_obs = obs\n",
    "    action = gbagent.next_action(obs)\n",
    "    obs = env.step(action)\n",
    "    gbagent_res.append(obs)  \n",
    "    \n",
    "    print('External:', external_temp, '\\n','Prev. Obs:', prev_obs, '-> Action:', action, '-> Room:', obs)"
   ]
  },
  {
   "cell_type": "code",
   "execution_count": 41,
   "metadata": {},
   "outputs": [
    {
     "data": {
      "text/plain": [
       "[<matplotlib.lines.Line2D at 0x2bcaa1f0050>]"
      ]
     },
     "execution_count": 41,
     "metadata": {},
     "output_type": "execute_result"
    },
    {
     "data": {
      "image/png": "[encoded data removed]",
      "text/plain": [
       "<Figure size 640x480 with 1 Axes>"
      ]
     },
     "metadata": {},
     "output_type": "display_data"
    }
   ],
   "source": [
    "plt.axhline(color='black')                                  #Temperatura ideal\n",
    "plt.plot(range(0, total_steps), gbagent_res, color='red')     #Temperatura con el agente\n",
    "plt.plot(range(0, total_steps), external_res, color='blue') #Temperatura sin agente"
   ]
  },
  {
   "cell_type": "code",
   "execution_count": 42,
   "metadata": {},
   "outputs": [
    {
     "name": "stdout",
     "output_type": "stream",
     "text": [
      "Temperatura media con el agente:  0.029400000000000082\n",
      "Temperatura media sin el agente:  -2.1344000000000003\n"
     ]
    }
   ],
   "source": [
    "print(\"Temperatura media con el agente: \", np.mean(gbagent_res))\n",
    "print(\"Temperatura media sin el agente: \", np.mean(external_res))"
   ]
  },
  {
   "cell_type": "code",
   "execution_count": 43,
   "metadata": {},
   "outputs": [
    {
     "name": "stdout",
     "output_type": "stream",
     "text": [
      "Variación media con el agente:  1.8084000000000002\n",
      "Variación media sin el agente:  12.9592\n"
     ]
    }
   ],
   "source": [
    "goal_temp = np.zeros(total_steps)\n",
    "print(\"Variación media con el agente: \", mean_absolute_error(goal_temp, gbagent_res))\n",
    "print(\"Variación media sin el agente: \", mean_absolute_error(goal_temp, external_res))"
   ]
  },
  {
   "cell_type": "markdown",
   "metadata": {},
   "source": [
    "# PENDIENTE HACERLO CON Utility Based Agent "
   ]
  }
 ],
 "metadata": {
  "kernelspec": {
   "display_name": "Python 3",
   "language": "python",
   "name": "python3"
  },
  "language_info": {
   "codemirror_mode": {
    "name": "ipython",
    "version": 3
   },
   "file_extension": ".py",
   "mimetype": "text/x-python",
   "name": "python",
   "nbconvert_exporter": "python",
   "pygments_lexer": "ipython3",
   "version": "3.13.3"
  }
 },
 "nbformat": 4,
 "nbformat_minor": 4
}
