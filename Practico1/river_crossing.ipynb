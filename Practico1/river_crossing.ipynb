{
 "cells": [
  {
   "cell_type": "markdown",
   "metadata": {},
   "source": [
    "## Letra práctico 1"
   ]
  },
  {
   "cell_type": "markdown",
   "metadata": {},
   "source": [
    "Práctico 1 - River Crossing\n",
    "Cuatro amigos llegan a un río a la noche. Allí se encuentran un puente estrecho y en\n",
    "mal estado, pero capaz de soportar el peso de dos personas a la vez. No contaban\n",
    "con este imprevisto y en su excursión nocturna sólo llevaban una antorcha. Ésta es\n",
    "imprescindible para cruzar el puente cada vez para que puedan ver dónde hay que\n",
    "pisar. Esto implica que cuando un par pasen de un lado al otro después uno debe\n",
    "volver a atrás para que puedan cruzar los demás. Alberta puede ir de un extremo al\n",
    "otro en un minuto, Bernardo tarda dos minutos en hacer el mismo recorrido. Carlos,\n",
    "con miedo al río, necesita cinco minutos para cruzar el puente, mientras que Diana\n",
    "requiere ocho minutos por un esguince en el pie que le hace ser la más lenta.\n",
    "Los cuatro amigos deben ser capaces de cruzar el río en exactamente 15 minutos.\n",
    "Cuando dos amigos cruzan el tiempo acumulado corresponde al amigo que demora\n",
    "más tiempo en cruzar.\n",
    "Se pide:\n",
    "1) Codificar un agente que ejecute acciones aleatorias sobre el ambiente\n",
    "(Random Agent).\n",
    "2) Codificar un agente que ejecute acciones que provienen de una lista de\n",
    "acciones predefinidas. El agente debe ejecutar las acciones en orden (Action\n",
    "List Agent).\n",
    "3) Codificar un agente que ejecute acciones basadas en una estrategia (Simple\n",
    "Reflex Agent).\n",
    "Lectura Recomendada\n",
    "Se recomienda repasar el uso básico de un ambiente de Gym/Gymnasium:\n",
    "https://www.gymlibrary.dev/content/basic_usage/"
   ]
  },
  {
   "cell_type": "markdown",
   "metadata": {},
   "source": [
    "## Bruno apuntes práctico 1"
   ]
  },
  {
   "cell_type": "markdown",
   "metadata": {},
   "source": [
    "(Antes de comenzar, ejecutar poetry install)\n",
    "\n",
    "Agente es director, personas seran parte del ambiente. La decisión la tomaremos nosotros como director.\n",
    "A principio tenemos las 4 personas del lado izqueirdo.\n",
    "Cruzan el puente, y luego elegimos las 2 personas que pasan, y uno tiene que volver porque tienen 1 antorcha.\n",
    "Así puedo seguir jugando.\n",
    "Objetivo: QUe pasen todos a la derecha, en 15 mins.\n",
    "\n",
    "Definir como es el ambiente:\n",
    "- PEAS\n",
    "    - Performance: Tiempo y cuantos de cada lado/haber llegado\n",
    "    - Desc. Ambiente: Descripción PDF\n",
    "    - Actuadores: Acciones. Mover hasta 2 personas para un lado y para el otro\n",
    "    - Sensores: Quienes estan \n",
    "- Observabilidad: Total, completa. La info es quien esta de cada lado y de que lado esta la antorcha.\n",
    "- Tomaremos personas como parte del ambiente.\n",
    "- Agente: Director que dirá quien se mueve para un lado y quien para el otro.\n",
    "- Deterministico. Cuadno hacemos un movimiento pasa algo.\n",
    "- Secuencial. Tenemos una secuencia de pasos que modifica el estado e impacta en el futuro\n",
    "- Táctico: Podemos tomarnos todo el tiempo del mundo para elegir que hacer. Agente trancado hasta que tomemos una decisión.\n",
    "- Discreto: Estados: Izq derecha.\n"
   ]
  },
  {
   "cell_type": "markdown",
   "metadata": {},
   "source": [
    "## Práctico 1: River Crossing"
   ]
  },
  {
   "cell_type": "markdown",
   "metadata": {},
   "source": [
    "El objetivo de este práctico es comenzar a familiarizarse con el funcionamiento de los ambientes de gym/gymnasium"
   ]
  },
  {
   "cell_type": "markdown",
   "metadata": {},
   "source": [
    "### Dependencias"
   ]
  },
  {
   "cell_type": "code",
   "execution_count": 2,
   "metadata": {},
   "outputs": [],
   "source": [
    "from river_crossing_env import RiverCrossingEnv\n",
    "from input_agent import InputAgent\n",
    "from river_crossing_utils import finish"
   ]
  },
  {
   "cell_type": "code",
   "execution_count": 3,
   "metadata": {},
   "outputs": [
    {
     "name": "stdout",
     "output_type": "stream",
     "text": [
      "\n",
      "Virtualenv\n",
      "Python:         3.10.11\n",
      "Implementation: CPython\n",
      "Path:           C:\\temp\\BrunoORT\\IA\\ia_practicos\\Practico1\\.venv\n",
      "Executable:     C:\\temp\\BrunoORT\\IA\\ia_practicos\\Practico1\\.venv\\Scripts\\python.exe\n",
      "Valid:          True\n",
      "\n",
      "Base\n",
      "Platform:   win32\n",
      "OS:         nt\n",
      "Python:     3.10.11\n",
      "Path:       C:\\Users\\bmonfort\\AppData\\Local\\Microsoft\\WindowsApps\\PythonSoftwareFoundation.Python.3.10_3.10.3056.0_x64__qbz5n2kfra8p0\n",
      "Executable: python\n"
     ]
    }
   ],
   "source": [
    "!poetry env info"
   ]
  },
  {
   "cell_type": "markdown",
   "metadata": {},
   "source": [
    "### Espacio de acciones y observaciones"
   ]
  },
  {
   "cell_type": "code",
   "execution_count": null,
   "metadata": {},
   "outputs": [],
   "source": [
    "env = RiverCrossingEnv()"
   ]
  },
  {
   "cell_type": "code",
   "execution_count": null,
   "metadata": {},
   "outputs": [],
   "source": [
    "env.observation_space"
   ]
  },
  {
   "cell_type": "code",
   "execution_count": null,
   "metadata": {},
   "outputs": [],
   "source": [
    "env.observation_space.sample()"
   ]
  },
  {
   "cell_type": "code",
   "execution_count": null,
   "metadata": {},
   "outputs": [],
   "source": [
    "env.action_space"
   ]
  },
  {
   "cell_type": "code",
   "execution_count": null,
   "metadata": {},
   "outputs": [],
   "source": [
    "env.action_space.sample()"
   ]
  },
  {
   "cell_type": "markdown",
   "metadata": {},
   "source": [
    "### Input Agent"
   ]
  },
  {
   "cell_type": "markdown",
   "metadata": {},
   "source": [
    "Comencemos realizando un agente input, en el cual proporcionaremos la acción para ser ejecutada sobre el ambiente"
   ]
  },
  {
   "cell_type": "code",
   "execution_count": null,
   "metadata": {},
   "outputs": [],
   "source": [
    "# Instanciar el entorno\n",
    "env = RiverCrossingEnv()\n",
    "obs = env.reset()\n",
    "done = False\n",
    "\n",
    "# Instanciar el agente\n",
    "input_agent = InputAgent()\n",
    "\n",
    "# Esqueleto\n",
    "while not done:\n",
    "    # Renderizar el entorno (opcional)\n",
    "    env.render()\n",
    "    \n",
    "    # Obtener la acción del agente\n",
    "    action = input_agent.next_action(obs)\n",
    "        \n",
    "    # Ejecutar la acción en el entorno\n",
    "    obs, reward, done, info = env.step(action)\n",
    "    \n",
    "env.render()\n",
    "finish(reward)"
   ]
  },
  {
   "cell_type": "markdown",
   "metadata": {},
   "source": [
    "### Random Agent"
   ]
  },
  {
   "cell_type": "markdown",
   "metadata": {},
   "source": [
    "Codifique un agente que ejecute acciones aleatorias sobre el ambiente"
   ]
  },
  {
   "cell_type": "markdown",
   "metadata": {},
   "source": [
    "### Action List Agent"
   ]
  },
  {
   "cell_type": "markdown",
   "metadata": {},
   "source": [
    "Codifique un agente que ejecute acciones que provienen de una lista de acciones predefinidas. El agente debe ejecutar las acciones en orden."
   ]
  },
  {
   "cell_type": "markdown",
   "metadata": {},
   "source": [
    "### Simple Reflex Agent"
   ]
  },
  {
   "cell_type": "markdown",
   "metadata": {},
   "source": [
    "Codifique un agente que ejecute acciones basadas en una estrategia."
   ]
  }
 ],
 "metadata": {
  "kernelspec": {
   "display_name": ".venv",
   "language": "python",
   "name": "python3"
  },
  "language_info": {
   "codemirror_mode": {
    "name": "ipython",
    "version": 3
   },
   "file_extension": ".py",
   "mimetype": "text/x-python",
   "name": "python",
   "nbconvert_exporter": "python",
   "pygments_lexer": "ipython3",
   "version": "3.10.11"
  }
 },
 "nbformat": 4,
 "nbformat_minor": 2
}
