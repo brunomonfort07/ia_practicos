{
 "cells": [
  {
   "cell_type": "code",
   "execution_count": 1,
   "metadata": {},
   "outputs": [],
   "source": [
    "import numpy as np\n",
    "from tic_tac_toe import TicTacToe\n",
    "from agent import Agent\n",
    "from random_agent import RandomAgent\n",
    "# from minimax_agent import AgentMinimax"
   ]
  },
  {
   "cell_type": "code",
   "execution_count": 2,
   "metadata": {},
   "outputs": [],
   "source": [
    "def print_winner(winner: int):\n",
    "    if winner == 0:\n",
    "        print(\"Empate\")\n",
    "    elif winner == 1:\n",
    "        print(\"Gano jugador 1\")\n",
    "    elif winner == 2:\n",
    "        print(\"Gano jugador 2\")\n",
    "    else:\n",
    "        print(\"Paso algo raro\")"
   ]
  },
  {
   "cell_type": "code",
   "execution_count": null,
   "metadata": {
    "tags": []
   },
   "outputs": [],
   "source": [
    "agent1 = RandomAgent(1) #0\n",
    "agent2 = RandomAgent(2) #X\n",
    "agents = [agent1, agent2]\n",
    "\n",
    "tic_tac_toe = TicTacToe()\n",
    "done = False\n",
    "winner = -1\n",
    "i = 0\n",
    "while not done:\n",
    "    i = (i+1) % 2\n",
    "    pos = agents[i].next_action(tic_tac_toe)\n",
    "    done, winner = tic_tac_toe.play(pos, agents[i].player)\n",
    "    tic_tac_toe.render()\n",
    "print_winner(winner)"
   ]
  }
 ],
 "metadata": {
  "kernelspec": {
   "display_name": ".venv",
   "language": "python",
   "name": "python3"
  },
  "language_info": {
   "codemirror_mode": {
    "name": "ipython",
    "version": 3
   },
   "file_extension": ".py",
   "mimetype": "text/x-python",
   "name": "python",
   "nbconvert_exporter": "python",
   "pygments_lexer": "ipython3",
   "version": "3.10.12"
  },
  "orig_nbformat": 2
 },
 "nbformat": 4,
 "nbformat_minor": 2
}
