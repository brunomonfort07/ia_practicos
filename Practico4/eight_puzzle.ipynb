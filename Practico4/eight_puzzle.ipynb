{
 "cells": [
  {
   "cell_type": "markdown",
   "id": "bfd84515",
   "metadata": {},
   "source": [
    "## Práctico 4: Eight Puzzle"
   ]
  },
  {
   "cell_type": "code",
   "execution_count": 1,
   "id": "0d31cbe5",
   "metadata": {},
   "outputs": [],
   "source": [
    "from eight_puzzle import EightPuzzle\n",
    "\n",
    "env = EightPuzzle()"
   ]
  },
  {
   "cell_type": "markdown",
   "id": "25dfe842",
   "metadata": {},
   "source": [
    "### Ejecución de A*"
   ]
  },
  {
   "cell_type": "code",
   "execution_count": null,
   "id": "7971ce2c",
   "metadata": {},
   "outputs": [],
   "source": [
    "from a_star_agent import AStarAgent\n",
    "from model import Model\n",
    "\n",
    "model = Model()\n",
    "agent = AStarAgent(model)\n",
    "_, steps = agent.loop(env)"
   ]
  },
  {
   "cell_type": "markdown",
   "id": "4058770f",
   "metadata": {},
   "source": [
    "### Cantidad de pasos"
   ]
  },
  {
   "cell_type": "code",
   "execution_count": null,
   "id": "7361b6d6",
   "metadata": {},
   "outputs": [],
   "source": [
    "print(\"Total steps: \", steps)"
   ]
  }
 ],
 "metadata": {
  "kernelspec": {
   "display_name": "Python 3 (ipykernel)",
   "language": "python",
   "name": "python3"
  },
  "language_info": {
   "codemirror_mode": {
    "name": "ipython",
    "version": 3
   },
   "file_extension": ".py",
   "mimetype": "text/x-python",
   "name": "python",
   "nbconvert_exporter": "python",
   "pygments_lexer": "ipython3",
   "version": "3.10.12"
  }
 },
 "nbformat": 4,
 "nbformat_minor": 5
}
